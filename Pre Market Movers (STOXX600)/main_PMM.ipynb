{
 "cells": [
  {
   "cell_type": "code",
   "execution_count": 15,
   "metadata": {
    "scrolled": true
   },
   "outputs": [
    {
     "ename": "ModuleNotFoundError",
     "evalue": "No module named 'xbbg'",
     "output_type": "error",
     "traceback": [
      "\u001b[0;31m---------------------------------------------------------------------------\u001b[0m",
      "\u001b[0;31mModuleNotFoundError\u001b[0m                       Traceback (most recent call last)",
      "Input \u001b[0;32mIn [15]\u001b[0m, in \u001b[0;36m<cell line: 13>\u001b[0;34m()\u001b[0m\n\u001b[1;32m     11\u001b[0m bq \u001b[38;5;241m=\u001b[39m bql\u001b[38;5;241m.\u001b[39mService()\n\u001b[1;32m     12\u001b[0m \u001b[38;5;28;01mimport\u001b[39;00m \u001b[38;5;21;01mpandas\u001b[39;00m \u001b[38;5;28;01mas\u001b[39;00m \u001b[38;5;21;01mpd\u001b[39;00m\n\u001b[0;32m---> 13\u001b[0m \u001b[38;5;28;01mfrom\u001b[39;00m \u001b[38;5;21;01mxbbg\u001b[39;00m \u001b[38;5;28;01mimport\u001b[39;00m blp\n\u001b[1;32m     15\u001b[0m \u001b[38;5;66;03m# pull data items and security\u001b[39;00m\n\u001b[1;32m     16\u001b[0m universe \u001b[38;5;241m=\u001b[39m bq\u001b[38;5;241m.\u001b[39muniv\u001b[38;5;241m.\u001b[39mmembers(\u001b[38;5;124m'\u001b[39m\u001b[38;5;124mSXXP Index\u001b[39m\u001b[38;5;124m'\u001b[39m)\n",
      "File \u001b[0;32m/opt/bqplatform/lib/python3.9/site-packages/bqimports/bq_importer.py:104\u001b[0m, in \u001b[0;36mBQImporter.import_override\u001b[0;34m(self, name, globals, locals, fromlist, level)\u001b[0m\n\u001b[1;32m     65\u001b[0m \u001b[38;5;250m\u001b[39m\u001b[38;5;124;03m\"\"\"Replace the built-in `__import__` function.\u001b[39;00m\n\u001b[1;32m     66\u001b[0m \n\u001b[1;32m     67\u001b[0m \u001b[38;5;124;03mParameters\u001b[39;00m\n\u001b[0;32m   (...)\u001b[0m\n\u001b[1;32m     98\u001b[0m \u001b[38;5;124;03min the `_import_error_exception_handler` method in utils.py.\u001b[39;00m\n\u001b[1;32m     99\u001b[0m \u001b[38;5;124;03m\"\"\"\u001b[39;00m\n\u001b[1;32m    100\u001b[0m \u001b[38;5;66;03m# Call the original __import__ function\u001b[39;00m\n\u001b[1;32m    101\u001b[0m \u001b[38;5;66;03m# import = find + load\u001b[39;00m\n\u001b[1;32m    102\u001b[0m \u001b[38;5;66;03m# This is necessary to call outside of try block to handle ImportError\u001b[39;00m\n\u001b[1;32m    103\u001b[0m \u001b[38;5;66;03m# of relative imports in __init__.py files of some packages\u001b[39;00m\n\u001b[0;32m--> 104\u001b[0m result \u001b[38;5;241m=\u001b[39m \u001b[38;5;28;43mself\u001b[39;49m\u001b[38;5;241;43m.\u001b[39;49m\u001b[43m_original_import\u001b[49m\u001b[43m(\u001b[49m\n\u001b[1;32m    105\u001b[0m \u001b[43m    \u001b[49m\u001b[43mname\u001b[49m\u001b[43m,\u001b[49m\n\u001b[1;32m    106\u001b[0m \u001b[43m    \u001b[49m\u001b[38;5;28;43mglobals\u001b[39;49m\u001b[43m,\u001b[49m\n\u001b[1;32m    107\u001b[0m \u001b[43m    \u001b[49m\u001b[38;5;28;43mlocals\u001b[39;49m\u001b[43m,\u001b[49m\n\u001b[1;32m    108\u001b[0m \u001b[43m    \u001b[49m\u001b[43mfromlist\u001b[49m\u001b[43m,\u001b[49m\n\u001b[1;32m    109\u001b[0m \u001b[43m    \u001b[49m\u001b[43mlevel\u001b[49m\u001b[43m,\u001b[49m\n\u001b[1;32m    110\u001b[0m \u001b[43m\u001b[49m\u001b[43m)\u001b[49m\n\u001b[1;32m    112\u001b[0m \u001b[38;5;66;03m# Attempt to log the module's payload without showing errors\u001b[39;00m\n\u001b[1;32m    113\u001b[0m \u001b[38;5;66;03m# to the user\u001b[39;00m\n\u001b[1;32m    114\u001b[0m \u001b[38;5;28;01mtry\u001b[39;00m:\n\u001b[1;32m    115\u001b[0m     \u001b[38;5;66;03m# Store the name of module and the import result as tuple\u001b[39;00m\n\u001b[1;32m    116\u001b[0m     \u001b[38;5;66;03m# For example:\u001b[39;00m\n\u001b[1;32m    117\u001b[0m     \u001b[38;5;66;03m# import yaml\u001b[39;00m\n\u001b[1;32m    118\u001b[0m     \u001b[38;5;66;03m#     ==> success: (\"yaml\", 1)\u001b[39;00m\n\u001b[1;32m    119\u001b[0m     \u001b[38;5;66;03m#     ==> failure: (\"yaml\", 0)\u001b[39;00m\n",
      "\u001b[0;31mModuleNotFoundError\u001b[0m: No module named 'xbbg'"
     ]
    }
   ],
   "source": [
    "#--------------------------------------\n",
    "#--------------------------------------\n",
    "#General Structure \n",
    "#1 Fetch STOXX600 closing price of previous day\n",
    "#2 Fetch current pre market price \n",
    "#3 Measure deviation\n",
    "#4 Use threshold to scan for outliers \n",
    "#--------------------------------------\n",
    "#--------------------------------------\n",
    "import bql \n",
    "bq = bql.Service()\n",
    "import pandas as pd\n",
    "from xbbg import blp\n",
    "\n",
    "# pull data items and security\n",
    "universe = bq.univ.members('SXXP Index')\n",
    "data_item = bq.data.px_last(dates='-1d')\n",
    "\n",
    "#request bql \n",
    "request = bql.Request(universe, data_item)\n",
    "response = bq.execute(request)\n",
    "\n",
    "#dataframe output\n",
    "df = response[0].df()\n",
    "df.drop(columns = ['DATE','CURRENCY'])\n",
    "df"
   ]
  }
 ],
 "metadata": {
  "kernelspec": {
   "display_name": "BQuant Python 3",
   "language": "python",
   "name": "user-python"
  },
  "language_info": {
   "codemirror_mode": {
    "name": "ipython",
    "version": 3
   },
   "file_extension": ".py",
   "mimetype": "text/x-python",
   "name": "python",
   "nbconvert_exporter": "python",
   "pygments_lexer": "ipython3",
   "version": "3.9.19"
  }
 },
 "nbformat": 4,
 "nbformat_minor": 4
}
